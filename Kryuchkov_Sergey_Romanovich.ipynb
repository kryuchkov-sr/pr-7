{
 "cells": [
  {
   "cell_type": "markdown",
   "id": "28cffa2b",
   "metadata": {},
   "source": [
    "# Выполнение индивидуального задания в рамках Лабораторной работы 7. Вариант 14"
   ]
  },
  {
   "cell_type": "markdown",
   "id": "8f2d3d43",
   "metadata": {},
   "source": [
    "Подключение к базе данных в PostgreSQL и создание необходимых для начала работы таблиц, заполненных предоставленными данными"
   ]
  },
  {
   "cell_type": "code",
   "execution_count": 1,
   "id": "6ce6abc6",
   "metadata": {},
   "outputs": [
    {
     "name": "stdout",
     "output_type": "stream",
     "text": [
      "Requirement already satisfied: psycopg2 in c:\\users\\englishman\\anaconda3\\lib\\site-packages (2.9.10)\n"
     ]
    }
   ],
   "source": [
    "!pip install psycopg2"
   ]
  },
  {
   "cell_type": "code",
   "execution_count": 2,
   "id": "618c0877",
   "metadata": {},
   "outputs": [
    {
     "name": "stdout",
     "output_type": "stream",
     "text": [
      "Таблица hospital создана и заполнена данными\n",
      "Данные успешно вставлены в таблицу 'Hospital'\n",
      "Соединение с PostgreSQL закрыто\n"
     ]
    }
   ],
   "source": [
    "import psycopg2\n",
    "from psycopg2 import Error\n",
    "\n",
    "try:\n",
    "    # Подключение к существующей базе данных\n",
    "    connection = psycopg2.connect(user=\"postgres\",      # Замените на ваши данные\n",
    "                                  password=\"111\",  # Замените на ваши данные\n",
    "                                  host=\"localhost\",        # Замените на ваши данные\n",
    "                                  port=\"5432\",        # Обычно 5432\n",
    "                                  database=\"medical_db_upd\")     # Замените на ваши данные\n",
    "\n",
    "    # Создание курсора для выполнения операций с базой данных\n",
    "    cursor = connection.cursor()\n",
    "\n",
    "    cursor.execute(\"\"\"\n",
    "            CREATE TABLE hospital (\n",
    "                hospital_id INT PRIMARY KEY,\n",
    "                hospital_name VARCHAR(100) NOT NULL,\n",
    "                bed_count INT\n",
    "            );\n",
    "        \"\"\")\n",
    "    \n",
    "    cursor.execute(''' \n",
    "        ALTER TABLE hospital\n",
    "        ADD COLUMN hospital_type VARCHAR(50);\n",
    "    ''')\n",
    "\n",
    "    cursor.execute(\"\"\"\n",
    "            INSERT INTO hospital (hospital_id, hospital_name, bed_count, hospital_type )\n",
    "            VALUES\n",
    "                (1, 'Mayo Clinic', 200, 'General'),\n",
    "                (2, 'Cleveland Clinic', 400, 'General'),\n",
    "                (3, 'Johns Hopkins', 1000, 'Specialized'),\n",
    "                (4, 'UCLA Medical Center', 1500, 'General');\n",
    "        \"\"\")\n",
    "    connection.commit()\n",
    "    print(\"Таблица hospital создана и заполнена данными\")\n",
    "\n",
    "    cursor.execute(\"\"\"\n",
    "            CREATE TABLE doctor (\n",
    "                doctor_id INT PRIMARY KEY,\n",
    "                doctor_name VARCHAR(100) NOT NULL,\n",
    "                hospital_id INT NOT NULL,\n",
    "                FOREIGN KEY (hospital_id) REFERENCES hospital(hospital_id),\n",
    "                joining_date DATE NOT NULL,\n",
    "                speciality VARCHAR(100) NOT NULL,\n",
    "                salary INT NOT NULL,\n",
    "                experience INT\n",
    "            );\n",
    "        \"\"\")\n",
    "    cursor.execute(\"\"\"\n",
    "            INSERT INTO doctor (doctor_id, doctor_name, hospital_id, joining_date, speciality, salary, experience)\n",
    "            VALUES\n",
    "                (101, 'David', 1, '2005-02-10', 'Pediatric', 40000, NULL),\n",
    "                (102, 'Michael', 1, '2018-07-23', 'Oncologist', 20000, NULL),\n",
    "                (103, 'Susan', 2, '2016-05-19', 'Gynecologist', 25000, NULL),\n",
    "                (104, 'Robert', 2, '2017-12-28', 'Pediatric', 28000, NULL),\n",
    "                (105, 'Linda', 3, '2004-06-04', 'Gynecologist', 42000, NULL),\n",
    "                (106, 'William', 3, '2012-09-11', 'Dermatologist', 30000, NULL),\n",
    "                (107, 'Richard', 4, '2014-08-21', 'Gynecologist', 32000, NULL),\n",
    "                (108, 'Karen', 4, '2011-10-17', 'Radiologist', 30000, NULL),\n",
    "                (109, 'James', 1, '2022-01-15', 'Cardiologist', 45000, 5),\n",
    "                (110, 'Emily', 1, '2023-04-10', 'Orthopedic Surgeon', 50000, 3),\n",
    "                (111, 'Olivia', 2, '2021-09-05', 'Neurologist', 42000, 4),\n",
    "                (112, 'John', 2, '2024-02-18', 'Surgeon', 60000, 2),\n",
    "                (113, 'Sophia', 3, '2022-07-30', 'Urologist', 38000, 6),\n",
    "                (114, 'Daniel', 3, '2025-03-22', 'Pulmonologist', 47000, 1),\n",
    "                (115, 'Isabella', 4, '2023-11-01', 'Pediatrician', 41000, 3),\n",
    "                (116, 'Liam', 4, '2022-05-25', 'Dermatologist', 35000, 4),\n",
    "                (117, 'Mia', 1, '2024-06-17', 'Gastroenterologist', 53000, 2),\n",
    "                (118, 'Lucas', 2, '2023-01-12', 'Anesthesiologist', 46000, 3);\n",
    "        \"\"\")\n",
    "    connection.commit()\n",
    "    print(\"Данные успешно вставлены в таблицу 'Hospital'\")\n",
    "\n",
    "except (Exception, Error) as error:\n",
    "    print(\"Ошибка при подключении к PostgreSQL:\", error)\n",
    "\n",
    "finally:\n",
    "    # Закрытие соединения (если оно было установлено)\n",
    "    if connection:\n",
    "        if cursor:\n",
    "            cursor.close()\n",
    "        connection.close()\n",
    "        print(\"Соединение с PostgreSQL закрыто\")"
   ]
  },
  {
   "cell_type": "markdown",
   "id": "ba054785",
   "metadata": {},
   "source": [
    "# Задания к Варианту 14"
   ]
  },
  {
   "cell_type": "markdown",
   "id": "323a538f",
   "metadata": {},
   "source": [
    "# Задания 1 и 2: Создайте таблицу \"Doctor_Specialization\" с полями \"ID\", \"NAME\" & Вставьте данные о 5 новых специализациях в таблицу \"Doctor_Specialization\""
   ]
  },
  {
   "cell_type": "code",
   "execution_count": 3,
   "id": "28d78ed9",
   "metadata": {},
   "outputs": [
    {
     "name": "stdout",
     "output_type": "stream",
     "text": [
      "Таблица Doctor_Specialization создана и заполнена данными\n",
      "Соединение с PostgreSQL закрыто\n"
     ]
    }
   ],
   "source": [
    "import psycopg2\n",
    "from psycopg2 import Error\n",
    "\n",
    "try:\n",
    "    # Подключение к существующей базе данных\n",
    "    connection = psycopg2.connect(user=\"postgres\",      # Замените на ваши данные\n",
    "                                  password=\"111\",  # Замените на ваши данные\n",
    "                                  host=\"localhost\",        # Замените на ваши данные\n",
    "                                  port=\"5432\",        # Обычно 5432\n",
    "                                  database=\"medical_db_upd\")     # Замените на ваши данные\n",
    "\n",
    "    # Создание курсора для выполнения операций с базой данных\n",
    "    cursor = connection.cursor()\n",
    "\n",
    "\n",
    "    cursor.execute(\"\"\"\n",
    "            CREATE TABLE Doctor_Specialization (\n",
    "                id INT PRIMARY KEY,\n",
    "                name VARCHAR(100) NOT NULL\n",
    "            );\n",
    "        \"\"\")\n",
    "    cursor.execute(\"\"\"\n",
    "            INSERT INTO Doctor_Specialization (id, name)\n",
    "            VALUES\n",
    "                (1, 'Cardiology'),\n",
    "                (2, 'Neurology'),\n",
    "                (3, 'Pediatrics'),\n",
    "                (4, 'Surgery'),\n",
    "                (5, 'Dermatology');\n",
    "        \"\"\")\n",
    "    connection.commit()\n",
    "    print(\"Таблица Doctor_Specialization создана и заполнена данными\")\n",
    "\n",
    "\n",
    "except (Exception, Error) as error:\n",
    "    print(\"Ошибка при подключении к PostgreSQL:\", error)\n",
    "\n",
    "finally:\n",
    "    # Закрытие соединения (если оно было установлено)\n",
    "    if connection:\n",
    "        if cursor:\n",
    "            cursor.close()\n",
    "        connection.close()\n",
    "        print(\"Соединение с PostgreSQL закрыто\")"
   ]
  },
  {
   "cell_type": "markdown",
   "id": "ba4ad24b",
   "metadata": {},
   "source": [
    "# Задание 3: Получите всех врачей по специальности \"Orthopedic\"."
   ]
  },
  {
   "cell_type": "code",
   "execution_count": 10,
   "id": "bd3c2a7b",
   "metadata": {},
   "outputs": [
    {
     "name": "stdout",
     "output_type": "stream",
     "text": [
      "(110, 'Emily', 1, datetime.date(2023, 4, 10), 'Orthopedic Surgeon', 50000, 3)\n",
      "Соединение с PostgreSQL закрыто\n"
     ]
    }
   ],
   "source": [
    "import psycopg2\n",
    "from psycopg2 import Error\n",
    "\n",
    "try:\n",
    "    # Подключение к существующей базе данных\n",
    "    connection = psycopg2.connect(user=\"postgres\",      # Замените на ваши данные\n",
    "                                  password=\"111\",  # Замените на ваши данные\n",
    "                                  host=\"localhost\",        # Замените на ваши данные\n",
    "                                  port=\"5432\",        # Обычно 5432\n",
    "                                  database=\"medical_db_upd\")     # Замените на ваши данные\n",
    "\n",
    "    # Создание курсора для выполнения операций с базой данных\n",
    "    cursor = connection.cursor()\n",
    "\n",
    "\n",
    "    cursor.execute(\"\"\"select * from doctor\n",
    "        where speciality like '%Orthopedic%'           \n",
    "        \"\"\")\n",
    "    for row in cursor:\n",
    "            print(row)\n",
    "\n",
    "except (Exception, Error) as error:\n",
    "    print(\"Ошибка при подключении к PostgreSQL:\", error)\n",
    "\n",
    "finally:\n",
    "    # Закрытие соединения (если оно было установлено)\n",
    "    if connection:\n",
    "        if cursor:\n",
    "            cursor.close()\n",
    "        connection.close()\n",
    "        print(\"Соединение с PostgreSQL закрыто\")"
   ]
  },
  {
   "cell_type": "markdown",
   "id": "c2c234ec",
   "metadata": {},
   "source": [
    "# Задание 4: Обновите зарплату врача с ID=106 на 52000."
   ]
  },
  {
   "cell_type": "code",
   "execution_count": 14,
   "id": "1ec33569",
   "metadata": {},
   "outputs": [
    {
     "name": "stdout",
     "output_type": "stream",
     "text": [
      "Данные о старой зарплате: \n",
      "(106, 'William', 3, datetime.date(2012, 9, 11), 'Dermatologist', 30000, None)\n",
      "Данные о новой зарплате :\n",
      "(106, 'William', 3, datetime.date(2012, 9, 11), 'Dermatologist', 52000, None)\n",
      "Соединение с PostgreSQL закрыто\n"
     ]
    }
   ],
   "source": [
    "import psycopg2\n",
    "from psycopg2 import Error\n",
    "\n",
    "try:\n",
    "    # Подключение к существующей базе данных\n",
    "    connection = psycopg2.connect(user=\"postgres\",      # Замените на ваши данные\n",
    "                                  password=\"111\",  # Замените на ваши данные\n",
    "                                  host=\"localhost\",        # Замените на ваши данные\n",
    "                                  port=\"5432\",        # Обычно 5432\n",
    "                                  database=\"medical_db_upd\")     # Замените на ваши данные\n",
    "\n",
    "    # Создание курсора для выполнения операций с базой данных\n",
    "    cursor = connection.cursor()\n",
    "\n",
    "    cursor.execute(\"\"\" SELECT *\n",
    "                   FROM doctor\n",
    "                   WHERE doctor_id = 106           \n",
    "        \"\"\")\n",
    "    print(\"Данные о старой зарплате: \")\n",
    "    for row in cursor:\n",
    "            print(row)\n",
    "\n",
    "    cursor.execute(\"\"\" UPDATE doctor\n",
    "                   SET salary = '52000'\n",
    "                   WHERE doctor_id = 106           \n",
    "        \"\"\")\n",
    "    connection.commit()\n",
    "\n",
    "    cursor.execute(\"\"\" SELECT *\n",
    "                   FROM doctor\n",
    "                   WHERE doctor_id = 106           \n",
    "        \"\"\")\n",
    "    print(\"Данные о новой зарплате :\")\n",
    "    for row in cursor:\n",
    "            print(row)\n",
    "\n",
    "except (Exception, Error) as error:\n",
    "    print(\"Ошибка при подключении к PostgreSQL:\", error)\n",
    "\n",
    "finally:\n",
    "    # Закрытие соединения (если оно было установлено)\n",
    "    if connection:\n",
    "        if cursor:\n",
    "            cursor.close()\n",
    "        connection.close()\n",
    "        print(\"Соединение с PostgreSQL закрыто\")"
   ]
  },
  {
   "cell_type": "markdown",
   "id": "8a5745b5",
   "metadata": {},
   "source": [
    "# Задание 5: Постройте круговую диаграмму для визуализации распределения больниц по типу."
   ]
  },
  {
   "cell_type": "code",
   "execution_count": null,
   "id": "54e210bf",
   "metadata": {},
   "outputs": [],
   "source": [
    "!pip install matplotlib"
   ]
  },
  {
   "cell_type": "code",
   "execution_count": null,
   "id": "f34ffa82",
   "metadata": {},
   "outputs": [],
   "source": [
    "import psycopg2\n",
    "import matplotlib.pyplot as plot\n",
    "\n",
    "try:\n",
    "    # Подключение к существующей базе данных\n",
    "    connection = psycopg2.connect(user=\"postgres\",      # Замените на ваши данные\n",
    "                                  password=\"111\",  # Замените на ваши данные\n",
    "                                  host=\"localhost\",        # Замените на ваши данные\n",
    "                                  port=\"5432\",        # Обычно 5432\n",
    "                                  database=\"medical_db_upd\")     # Замените на ваши данные\n",
    "\n",
    "    # Создание курсора для выполнения операций с базой данных\n",
    "    cursor = connection.cursor()\n",
    "\n",
    "\n",
    "cursor.execute('''\n",
    "select ''')\n",
    "\n",
    "except (Exception, Error) as error:\n",
    "print(\"Ошибка при подключении к PostgreSQL:\", error)\n",
    "\n",
    "finally:\n",
    "    # Закрытие соединения (если оно было установлено)\n",
    "    if connection:\n",
    "        if cursor:\n",
    "            cursor.close()\n",
    "        connection.close()\n",
    "        print(\"Соединение с PostgreSQL закрыто\")    "
   ]
  }
 ],
 "metadata": {
  "kernelspec": {
   "display_name": "base",
   "language": "python",
   "name": "python3"
  },
  "language_info": {
   "codemirror_mode": {
    "name": "ipython",
    "version": 3
   },
   "file_extension": ".py",
   "mimetype": "text/x-python",
   "name": "python",
   "nbconvert_exporter": "python",
   "pygments_lexer": "ipython3",
   "version": "3.11.5"
  }
 },
 "nbformat": 4,
 "nbformat_minor": 5
}
